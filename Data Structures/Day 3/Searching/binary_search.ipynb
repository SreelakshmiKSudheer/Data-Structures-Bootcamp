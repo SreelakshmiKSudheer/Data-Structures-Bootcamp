{
 "cells": [
  {
   "cell_type": "markdown",
   "id": "13738a33",
   "metadata": {},
   "source": [
    "## Binary Search\n",
    "\n",
    "Binary Search is an efficient algorithm for finding an item from a sorted list of elements.\n",
    "\n",
    "- It repeatedly divides the list in half.\n",
    "- Works only on **sorted** lists.\n",
    "\n",
    "### Time Complexity:\n",
    "- Best case: `O(1)`\n",
    "- Average/Worst case: `O(log n)`\n"
   ]
  },
  {
   "cell_type": "code",
   "execution_count": null,
   "id": "ba8b446c",
   "metadata": {},
   "outputs": [],
   "source": [
    "def binary_search(arr, target):\n",
    "    low = 0\n",
    "    high = len(arr) - 1\n",
    "    \n",
    "    while low <= high:\n",
    "        mid = (low + high) // 2\n",
    "        \n",
    "        if arr[mid] == target:\n",
    "            return mid  # Target found\n",
    "        elif arr[mid] < target:\n",
    "            low = mid + 1  # Search in right half\n",
    "        else:\n",
    "            high = mid - 1  # Search in left half\n",
    "    \n",
    "    return -1  # Target not found\n"
   ]
  },
  {
   "cell_type": "code",
   "execution_count": null,
   "id": "26a602bf",
   "metadata": {},
   "outputs": [],
   "source": [
    "nums = [1, 3, 5, 7, 9, 11, 13]\n",
    "index = binary_search(nums, 7)\n",
    "index  # Output: 3\n"
   ]
  },
  {
   "cell_type": "markdown",
   "id": "021b57c4",
   "metadata": {},
   "source": [
    "## Recursive Binary Search\n",
    "\n",
    "An alternative to the iterative approach using function recursion.\n"
   ]
  },
  {
   "cell_type": "code",
   "execution_count": null,
   "id": "4af01885",
   "metadata": {},
   "outputs": [],
   "source": [
    "def binary_search_recursive(arr, target, low, high):\n",
    "    if low > high:\n",
    "        return -1  # Base case\n",
    "    \n",
    "    mid = (low + high) // 2\n",
    "    \n",
    "    if arr[mid] == target:\n",
    "        return mid\n",
    "    elif arr[mid] < target:\n",
    "        return binary_search_recursive(arr, target, mid + 1, high)\n",
    "    else:\n",
    "        return binary_search_recursive(arr, target, low, mid - 1)\n",
    "\n",
    "# Example\n",
    "binary_search_recursive([2, 4, 6, 8, 10], 8, 0, 4)  # Output: 3\n"
   ]
  },
  {
   "cell_type": "markdown",
   "id": "c74e4b42",
   "metadata": {},
   "source": [
    "## Built-in Binary Search: `bisect` Module\n",
    "\n",
    "Python’s `bisect` module provides efficient binary search operations on sorted lists.\n",
    "\n",
    "### Common Functions:\n",
    "- `bisect.bisect_left(list, x)` → Insert position (left-most)\n",
    "- `bisect.bisect_right(list, x)` → Insert position (right-most)\n",
    "- `bisect.insort_left(list, x)` → Insert `x` maintaining order (left)\n",
    "- `bisect.insort_right(list, x)` → Insert `x` maintaining order (right)\n"
   ]
  },
  {
   "cell_type": "code",
   "execution_count": null,
   "id": "a98473db",
   "metadata": {},
   "outputs": [],
   "source": [
    "import bisect\n",
    "\n",
    "data = [1, 3, 5, 7, 9]\n",
    "\n",
    "# Find insertion positions\n",
    "pos_left = bisect.bisect_left(data, 5)\n",
    "pos_right = bisect.bisect_right(data, 5)\n",
    "\n",
    "# Insert while maintaining order\n",
    "bisect.insort_left(data, 6)\n",
    "bisect.insort_right(data, 8)\n",
    "\n",
    "data, pos_left, pos_right\n"
   ]
  },
  {
   "cell_type": "markdown",
   "id": "fc704f69",
   "metadata": {},
   "source": [
    "## Binary Search Methods Summary\n",
    "\n",
    "| Source     | Method / Function         | Purpose                             |\n",
    "|------------|----------------------------|--------------------------------------|\n",
    "| Manual     | binary_search()            | Iterative search                     |\n",
    "| Manual     | binary_search_recursive()  | Recursive search                     |\n",
    "| `bisect`   | bisect_left(list, x)       | Leftmost insertion index             |\n",
    "| `bisect`   | bisect_right(list, x)      | Rightmost insertion index            |\n",
    "| `bisect`   | insort_left(list, x)       | Insert `x` keeping order (left)      |\n",
    "| `bisect`   | insort_right(list, x)      | Insert `x` keeping order (right)     |\n"
   ]
  }
 ],
 "metadata": {
  "language_info": {
   "name": "python"
  }
 },
 "nbformat": 4,
 "nbformat_minor": 5
}
