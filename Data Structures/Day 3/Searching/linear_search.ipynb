{
 "cells": [
  {
   "cell_type": "markdown",
   "id": "ce59b509",            
   "metadata": {},
   "source": [
    "# Linear Search Algorithms\n",
    "\n",
    "Linear Search is a straightforward algorithm that traverses the entire list, comparing each element with the target until a match is found or the list ends.\n",
    "\n",
    "This notebook includes different implementations and use cases of linear search:\n",
    "- Basic search (iterative and recursive)\n",
    "- Search in strings\n",
    "- First and last occurrences\n",
    "- All occurrences\n",
    "- Count of occurrences\n"
   ]
  },
  {
   "cell_type": "code",
   "execution_count": null,
   "id": "e2a8863e",
   "metadata": {},
   "outputs": [],
   "source": [
    "def linear_search(arr, key):\n",
    "    for i in range(len(arr)):\n",
    "        if arr[i] == key:\n",
    "            return i\n",
    "    return -1"
   ]
  },
  {
   "cell_type": "markdown",
   "id": "93940ddb",
   "metadata": {},
   "source": [
    "## Recursive Linear Search\n",
    "\n",
    "An alternative approach to perform linear search using recursion.\n"
   ]
  },
  {
   "cell_type": "code",
   "execution_count": null,
   "id": "053aef49",
   "metadata": {},
   "outputs": [],
   "source": [
    "def linear_search_recursive(arr, key, index=0):\n",
    "    if index >= len(arr):\n",
    "        return -1\n",
    "    if arr[index] == key:\n",
    "        return index\n",
    "    return linear_search_recursive(arr, key, index + 1)"
   ]
  },
  {
   "cell_type": "markdown",
   "id": "69f2a709",
   "metadata": {},
   "source": [
    "## First and Last Occurrence of Key\n",
    "\n",
    "These functions return the first and last positions where the key is found.\n"
   ]
  },
  {
   "cell_type": "code",
   "execution_count": null,
   "id": "23fddfdf",
   "metadata": {},
   "outputs": [],
   "source": [
    "def first_occurrence(arr, key):\n",
    "    for i in range(len(arr)):\n",
    "        if arr[i] == key:\n",
    "            return i\n",
    "    return -1\n",
    "\n",
    "def last_occurrence(arr, key):\n",
    "    for i in reversed(range(len(arr))):\n",
    "        if arr[i] == key:\n",
    "            return i\n",
    "    return -1"
   ]
  },
  {
   "cell_type": "markdown",
   "id": "0e5beaea",
   "metadata": {},
   "source": [
    "## All Occurrences of a Key\n",
    "\n",
    "Returns a list of all indices where the target key is found.\n"
   ]
  },
  {
   "cell_type": "code",
   "execution_count": null,
   "id": "e20c820b",
   "metadata": {},
   "outputs": [],
   "source": [
    "def all_occurrences(arr, key):\n",
    "    indices = []\n",
    "    for i in range(len(arr)):\n",
    "        if arr[i] == key:\n",
    "            indices.append(i)\n",
    "    return indices"
   ]
  },
  {
   "cell_type": "markdown",
   "id": "6b771778",
   "metadata": {},
   "source": [
    "## Count of Occurrences\n",
    "\n",
    "Returns the number of times the key appears in the list.\n"
   ]
  },
  {
   "cell_type": "code",
   "execution_count": null,
   "id": "eec6539a",
   "metadata": {},
   "outputs": [],
   "source": [
    "def count_occurrences(arr, key):\n",
    "    count = 0\n",
    "    for item in arr:\n",
    "        if item == key:\n",
    "            count += 1\n",
    "    return count"
   ]
  },
  {
   "cell_type": "markdown",
   "id": "2732d6cf",
   "metadata": {},
   "source": [
    "## Linear Search in a String\n",
    "\n",
    "Performs character-based linear search inside a string.\n"
   ]
  },
  {
   "cell_type": "code",
   "execution_count": null,
   "id": "6a91b024",
   "metadata": {},
   "outputs": [],
   "source": [
    "def search_char_in_string(s, char):\n",
    "    for i in range(len(s)):\n",
    "        if s[i] == char:\n",
    "            return i\n",
    "    return -1"
   ]
  }
 ],
 "metadata": {},
 "nbformat": 4,
 "nbformat_minor": 5
}
