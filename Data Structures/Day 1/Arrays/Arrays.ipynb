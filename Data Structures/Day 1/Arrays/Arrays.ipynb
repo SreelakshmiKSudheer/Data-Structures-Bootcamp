{
  "cells": [
    {
      "cell_type": "markdown",
      "metadata": {
        "id": "bLLJ9QtFuseT"
      },
      "source": [
        "# Arrays in Python\n",
        "\n",
        "This notebook explores the concept of arrays in Python using the `array` module and NumPy. We'll cover definitions, basic operations, and typical use cases."
      ],
      "id": "bLLJ9QtFuseT"
    },
    {
      "cell_type": "code",
      "execution_count": null,
      "metadata": {
        "id": "kn1_Jvu4useb"
      },
      "outputs": [],
      "source": [
        "# Importing the array module\n",
        "import array"
      ],
      "id": "kn1_Jvu4useb"
    },
    {
      "cell_type": "markdown",
      "metadata": {
        "id": "Va12vb7Bused"
      },
      "source": [
        "## Creating an Array using array module"
      ],
      "id": "Va12vb7Bused"
    },
    {
      "cell_type": "code",
      "execution_count": null,
      "metadata": {
        "colab": {
          "base_uri": "https://localhost:8080/"
        },
        "id": "osBWMrVOusee",
        "outputId": "82679006-6198-4186-ea5b-6088843203d0"
      },
      "outputs": [
        {
          "output_type": "stream",
          "name": "stdout",
          "text": [
            "array('i', [1, 2, 3, 4, 5])\n"
          ]
        }
      ],
      "source": [
        "# 'i' is the typecode for signed integers\n",
        "arr = array.array('i', [1, 2, 3, 4, 5])\n",
        "print(arr)"
      ],
      "id": "osBWMrVOusee"
    },
    {
      "cell_type": "markdown",
      "metadata": {
        "id": "-KbODd9Fusef"
      },
      "source": [
        "## Accessing and modifying elements"
      ],
      "id": "-KbODd9Fusef"
    },
    {
      "cell_type": "code",
      "source": [
        "# iterating and printing each item\n",
        "for i in range(len(arr)):\n",
        "    print(arr[i], end=\" \")"
      ],
      "metadata": {
        "colab": {
          "base_uri": "https://localhost:8080/"
        },
        "id": "TILROFWswTI-",
        "outputId": "3a4aa34b-2556-4cd8-cf1a-8904c40164f0"
      },
      "id": "TILROFWswTI-",
      "execution_count": null,
      "outputs": [
        {
          "output_type": "stream",
          "name": "stdout",
          "text": [
            "1 10 3 4 5 "
          ]
        }
      ]
    },
    {
      "cell_type": "code",
      "execution_count": null,
      "metadata": {
        "colab": {
          "base_uri": "https://localhost:8080/"
        },
        "id": "4i9kSUEIuseg",
        "outputId": "4570cdc6-c06e-4bf8-c760-17c22ae91d34"
      },
      "outputs": [
        {
          "output_type": "stream",
          "name": "stdout",
          "text": [
            "1\n",
            "array('i', [1, 20, 3, 4, 5])\n"
          ]
        }
      ],
      "source": [
        "print(arr[0])      # Access first element\n",
        "arr[1] = 20        # Modify second element\n",
        "print(arr)"
      ],
      "id": "4i9kSUEIuseg"
    },
    {
      "cell_type": "markdown",
      "metadata": {
        "id": "WNx1XRdJusei"
      },
      "source": [
        "## Common methods"
      ],
      "id": "WNx1XRdJusei"
    },
    {
      "cell_type": "code",
      "execution_count": null,
      "metadata": {
        "colab": {
          "base_uri": "https://localhost:8080/"
        },
        "id": "gW9aE2pYusej",
        "outputId": "3c491d99-a0c2-4f34-870b-42bb5f68897e"
      },
      "outputs": [
        {
          "output_type": "stream",
          "name": "stdout",
          "text": [
            "array('i', [1, 20, 10, 3, 4, 5, 6])\n",
            "array('i', [1, 10, 3, 4, 5])\n"
          ]
        }
      ],
      "source": [
        "arr.append(6)      # Add to end\n",
        "arr.insert(2, 10)  # Insert at index 2\n",
        "print(arr)\n",
        "\n",
        "arr.pop()          # Remove last item\n",
        "arr.remove(20)     # Remove specific value\n",
        "print(arr)"
      ],
      "id": "gW9aE2pYusej"
    },
    {
      "cell_type": "markdown",
      "metadata": {
        "id": "ghpCBwRPusej"
      },
      "source": [
        "# NumPy Arrays\n",
        "\n",
        "For numerical and multidimensional data, we use NumPy arrays for better performance and features."
      ],
      "id": "ghpCBwRPusej"
    },
    {
      "cell_type": "code",
      "execution_count": null,
      "metadata": {
        "colab": {
          "base_uri": "https://localhost:8080/"
        },
        "id": "Jup4J8MMusek",
        "outputId": "d79b980a-d10e-48a0-cbac-ac3310e483ef"
      },
      "outputs": [
        {
          "output_type": "stream",
          "name": "stdout",
          "text": [
            "[1 2 3 4 5]\n"
          ]
        }
      ],
      "source": [
        "import numpy as np\n",
        "\n",
        "# Creating NumPy arrays\n",
        "np_arr = np.array([1, 2, 3, 4, 5])\n",
        "print(np_arr)"
      ],
      "id": "Jup4J8MMusek"
    },
    {
      "cell_type": "markdown",
      "metadata": {
        "id": "ze7hv8Nuusek"
      },
      "source": [
        "## NumPy operations"
      ],
      "id": "ze7hv8Nuusek"
    },
    {
      "cell_type": "code",
      "execution_count": null,
      "metadata": {
        "colab": {
          "base_uri": "https://localhost:8080/"
        },
        "id": "_dkgQgkLusel",
        "outputId": "2981729c-a0ae-48c2-ac5d-a6c97fb7dc2b"
      },
      "outputs": [
        {
          "output_type": "stream",
          "name": "stdout",
          "text": [
            "[11 12 13 14 15]\n",
            "[ 2  4  6  8 10]\n",
            "[2 3 4]\n"
          ]
        }
      ],
      "source": [
        "# Vectorized operations\n",
        "print(np_arr + 10)   # Add 10 to each element\n",
        "print(np_arr * 2)    # Multiply each element by 2\n",
        "\n",
        "# Slicing\n",
        "print(np_arr[1:4])"
      ],
      "id": "_dkgQgkLusel"
    },
    {
      "cell_type": "markdown",
      "metadata": {
        "id": "z9C7xM2Gusel"
      },
      "source": [
        "## 2D Arrays with NumPy"
      ],
      "id": "z9C7xM2Gusel"
    },
    {
      "cell_type": "code",
      "execution_count": null,
      "metadata": {
        "colab": {
          "base_uri": "https://localhost:8080/"
        },
        "id": "0pvSgsPfusem",
        "outputId": "06d6ed36-3cd3-4fb4-c2f5-0b96bffc7d55"
      },
      "outputs": [
        {
          "output_type": "stream",
          "name": "stdout",
          "text": [
            "[[1 2]\n",
            " [3 4]]\n",
            "2\n"
          ]
        }
      ],
      "source": [
        "# Matrix representation\n",
        "matrix = np.array([[1, 2], [3, 4]])\n",
        "print(matrix)\n",
        "\n",
        "# Accessing elements\n",
        "print(matrix[0][1])  # Element at 1st row, 2nd column"
      ],
      "id": "0pvSgsPfusem"
    },
    {
      "cell_type": "markdown",
      "metadata": {
        "id": "PRdaH90busem"
      },
      "source": [
        "# Summary\n",
        "\n",
        "- Use `array.array()` when you need type-specific arrays.\n",
        "- Use NumPy for advanced, efficient numerical computing.\n",
        "- Arrays allow fast, index-based access and are useful in many DSA problems."
      ],
      "id": "PRdaH90busem"
    }
  ],
  "metadata": {
    "kernelspec": {
      "display_name": "Python 3",
      "language": "python",
      "name": "python3"
    },
    "language_info": {
      "name": "python",
      "version": "3.11.3",
      "mimetype": "text/x-python",
      "file_extension": ".py"
    },
    "colab": {
      "provenance": []
    }
  },
  "nbformat": 4,
  "nbformat_minor": 5
}