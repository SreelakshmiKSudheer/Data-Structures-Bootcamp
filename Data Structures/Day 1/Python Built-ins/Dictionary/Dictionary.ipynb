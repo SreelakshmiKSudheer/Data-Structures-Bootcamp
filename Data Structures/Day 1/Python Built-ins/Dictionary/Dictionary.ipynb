{
 "cells": [
  {
   "cell_type": "markdown",
   "id": "269ee083",
   "metadata": {},
   "source": [
    "## Creating Dictionaries\n",
    "\n",
    "A dictionary is a collection of key-value pairs. Each key must be unique and immutable.\n"
   ]
  },
  {
   "cell_type": "code",
   "execution_count": 15,
   "id": "7aa455d5",
   "metadata": {},
   "outputs": [
    {
     "name": "stdout",
     "output_type": "stream",
     "text": [
      "{'name': 'Alice', 'age': 25}\n",
      "{'city': 'New York', 'country': 'USA'}\n"
     ]
    }
   ],
   "source": [
    "d1 = {'name': 'Alice', 'age': 25}\n",
    "d2 = dict(city='New York', country='USA')\n",
    "print(d1)\n",
    "print(d2)\n"
   ]
  },
  {
   "cell_type": "markdown",
   "id": "617b76ed",
   "metadata": {},
   "source": [
    "## Creating Dictionary from Keys\n",
    "\n",
    "Use `dict.fromkeys()` to generate a new dictionary from a list of keys with the same default value.\n"
   ]
  },
  {
   "cell_type": "code",
   "execution_count": 16,
   "id": "ca87f896",
   "metadata": {},
   "outputs": [
    {
     "data": {
      "text/plain": [
       "{'id': 'unknown', 'role': 'unknown', 'status': 'unknown'}"
      ]
     },
     "execution_count": 16,
     "metadata": {},
     "output_type": "execute_result"
    }
   ],
   "source": [
    "keys = ['id', 'role', 'status']\n",
    "default_value = 'unknown'\n",
    "d3 = dict.fromkeys(keys, default_value)\n",
    "d3\n"
   ]
  },
  {
   "cell_type": "markdown",
   "id": "232a706c",
   "metadata": {},
   "source": [
    "## Accessing Items\n",
    "\n",
    "Access dictionary values using brackets or the `get()` method.\n"
   ]
  },
  {
   "cell_type": "code",
   "execution_count": 21,
   "id": "2ac7adb2",
   "metadata": {},
   "outputs": [
    {
     "name": "stdout",
     "output_type": "stream",
     "text": [
      "Alice\n",
      "None\n",
      "None\n",
      "Not Specified\n"
     ]
    }
   ],
   "source": [
    "print(d1['name'])              # Alice\n",
    "print(d1.get('age'))           # 25\n",
    "print(d1.get('gender'))        # None\n",
    "print(d1.get('gender', 'Not Specified'))  # Not Specified\n"
   ]
  },
  {
   "cell_type": "markdown",
   "id": "7c0a4a4e",
   "metadata": {},
   "source": [
    "## Adding and Updating Items\n",
    "\n",
    "Add new key-value pairs or update existing ones using bracket notation.\n"
   ]
  },
  {
   "cell_type": "code",
   "execution_count": 22,
   "id": "cf64fe29",
   "metadata": {},
   "outputs": [
    {
     "data": {
      "text/plain": [
       "{'name': 'Alice', 'email': 'alice@example.com', 'age': 26}"
      ]
     },
     "execution_count": 22,
     "metadata": {},
     "output_type": "execute_result"
    }
   ],
   "source": [
    "d1['email'] = 'alice@example.com'\n",
    "d1['age'] = 26\n",
    "d1\n"
   ]
  },
  {
   "cell_type": "markdown",
   "id": "3fd10f2a",
   "metadata": {},
   "source": [
    "## Removing Items\n",
    "\n",
    "Use `del`, `pop()`, or `popitem()` to remove entries.\n"
   ]
  },
  {
   "cell_type": "code",
   "execution_count": 23,
   "id": "db59ad1a",
   "metadata": {},
   "outputs": [
    {
     "data": {
      "text/plain": [
       "'alice@example.com'"
      ]
     },
     "execution_count": 23,
     "metadata": {},
     "output_type": "execute_result"
    }
   ],
   "source": [
    "# Remove by key\n",
    "d1.pop('email')\n"
   ]
  },
  {
   "cell_type": "code",
   "execution_count": 24,
   "id": "aaa11d49",
   "metadata": {},
   "outputs": [
    {
     "data": {
      "text/plain": [
       "('age', 26)"
      ]
     },
     "execution_count": 24,
     "metadata": {},
     "output_type": "execute_result"
    }
   ],
   "source": [
    "\n",
    "# Remove the last inserted item\n",
    "d1.popitem()\n"
   ]
  },
  {
   "cell_type": "markdown",
   "id": "30225a9b",
   "metadata": {},
   "source": [
    "## Checking for Keys\n",
    "\n",
    "Use `in` to check if a key exists in the dictionary.\n"
   ]
  },
  {
   "cell_type": "code",
   "execution_count": 25,
   "id": "9a04bc30",
   "metadata": {},
   "outputs": [
    {
     "data": {
      "text/plain": [
       "True"
      ]
     },
     "execution_count": 25,
     "metadata": {},
     "output_type": "execute_result"
    }
   ],
   "source": [
    "'name' in d1   # True\n"
   ]
  },
  {
   "cell_type": "code",
   "execution_count": 26,
   "id": "b4e5d4fc",
   "metadata": {},
   "outputs": [
    {
     "data": {
      "text/plain": [
       "False"
      ]
     },
     "execution_count": 26,
     "metadata": {},
     "output_type": "execute_result"
    }
   ],
   "source": [
    "'email' in d1  # False\n"
   ]
  },
  {
   "cell_type": "markdown",
   "id": "54af7834",
   "metadata": {},
   "source": [
    "## Iterating Through Dictionary\n",
    "\n",
    "You can iterate over keys, values, or key-value pairs.\n"
   ]
  },
  {
   "cell_type": "code",
   "execution_count": 28,
   "id": "99da2f79",
   "metadata": {},
   "outputs": [
    {
     "name": "stdout",
     "output_type": "stream",
     "text": [
      "name\n"
     ]
    }
   ],
   "source": [
    "# Keys\n",
    "for k in d1:\n",
    "    print(k)\n"
   ]
  },
  {
   "cell_type": "code",
   "execution_count": 29,
   "id": "2aeb30d0",
   "metadata": {},
   "outputs": [
    {
     "name": "stdout",
     "output_type": "stream",
     "text": [
      "Alice\n"
     ]
    }
   ],
   "source": [
    "# Values\n",
    "for v in d1.values():\n",
    "    print(v)\n"
   ]
  },
  {
   "cell_type": "code",
   "execution_count": 30,
   "id": "c587d9b7",
   "metadata": {},
   "outputs": [
    {
     "name": "stdout",
     "output_type": "stream",
     "text": [
      "name: Alice\n"
     ]
    }
   ],
   "source": [
    "# Key-value pairs\n",
    "for k, v in d1.items():\n",
    "    print(f\"{k}: {v}\")\n"
   ]
  },
  {
   "cell_type": "markdown",
   "id": "75d4f9ed",
   "metadata": {},
   "source": [
    "## Merging Dictionaries\n",
    "\n",
    "Use `update()` to merge another dictionary into the current one.\n"
   ]
  },
  {
   "cell_type": "code",
   "execution_count": 31,
   "id": "63490612",
   "metadata": {},
   "outputs": [
    {
     "data": {
      "text/plain": [
       "{'x': 1, 'y': 100, 'z': 3}"
      ]
     },
     "execution_count": 31,
     "metadata": {},
     "output_type": "execute_result"
    }
   ],
   "source": [
    "a = {'x': 1, 'y': 2}\n",
    "b = {'y': 100, 'z': 3}\n",
    "\n",
    "a.update(b)\n",
    "a\n"
   ]
  },
  {
   "cell_type": "markdown",
   "id": "aacffdf1",
   "metadata": {},
   "source": [
    "## Dictionary Methods Summary\n",
    "\n",
    "- `.clear()` – remove all items  \n",
    "- `.copy()` – shallow copy  \n",
    "- `.fromkeys()` – create dict from keys  \n",
    "- `.get()` – access by key  \n",
    "- `.items()` – key-value pairs  \n",
    "- `.keys()` – all keys  \n",
    "- `.values()` – all values  \n",
    "- `.pop()` – remove by key  \n",
    "- `.popitem()` – remove last inserted  \n",
    "- `.setdefault()` – get or insert  \n",
    "- `.update()` – merge dictionaries  \n"
   ]
  },
  {
   "cell_type": "code",
   "execution_count": 33,
   "id": "2d90e0f9",
   "metadata": {},
   "outputs": [
    {
     "name": "stdout",
     "output_type": "stream",
     "text": [
      "{'x': 1, 'y': 2}\n"
     ]
    }
   ],
   "source": [
    "d = {'x': 1, 'y': 2}\n",
    "\n",
    "print(d.copy())\n"
   ]
  },
  {
   "cell_type": "code",
   "execution_count": 34,
   "id": "f8c95f1a",
   "metadata": {},
   "outputs": [
    {
     "name": "stdout",
     "output_type": "stream",
     "text": [
      "{'a': 0, 'b': 0}\n"
     ]
    }
   ],
   "source": [
    "print(dict.fromkeys(['a', 'b'], 0))\n"
   ]
  },
  {
   "cell_type": "code",
   "execution_count": 35,
   "id": "bfc7da55",
   "metadata": {},
   "outputs": [
    {
     "name": "stdout",
     "output_type": "stream",
     "text": [
      "1\n"
     ]
    }
   ],
   "source": [
    "print(d.get('x'))"
   ]
  },
  {
   "cell_type": "code",
   "execution_count": 36,
   "id": "287c19f5",
   "metadata": {},
   "outputs": [
    {
     "name": "stdout",
     "output_type": "stream",
     "text": [
      "[('x', 1), ('y', 2)]\n"
     ]
    }
   ],
   "source": [
    "print(list(d.items()))"
   ]
  },
  {
   "cell_type": "code",
   "execution_count": 37,
   "id": "62b5a23d",
   "metadata": {},
   "outputs": [
    {
     "name": "stdout",
     "output_type": "stream",
     "text": [
      "['x', 'y']\n"
     ]
    }
   ],
   "source": [
    "print(list(d.keys()))"
   ]
  },
  {
   "cell_type": "code",
   "execution_count": 38,
   "id": "6d71cfc1",
   "metadata": {},
   "outputs": [
    {
     "name": "stdout",
     "output_type": "stream",
     "text": [
      "[1, 2]\n"
     ]
    }
   ],
   "source": [
    "print(list(d.values()))"
   ]
  },
  {
   "cell_type": "code",
   "execution_count": 42,
   "id": "c7af74f4",
   "metadata": {},
   "outputs": [
    {
     "data": {
      "text/plain": [
       "{'x': 1, 'y': 10, 'z': 20}"
      ]
     },
     "execution_count": 42,
     "metadata": {},
     "output_type": "execute_result"
    }
   ],
   "source": [
    "d.setdefault('z', 5)\n",
    "d.update({'y': 10, 'z': 20})\n",
    "d"
   ]
  },
  {
   "cell_type": "markdown",
   "id": "a7ab57e2",
   "metadata": {},
   "source": [
    "## Dictionary Comprehension\n",
    "\n",
    "Create dictionaries in a single line using comprehension.\n"
   ]
  },
  {
   "cell_type": "code",
   "execution_count": 43,
   "id": "e645f5d7",
   "metadata": {},
   "outputs": [
    {
     "data": {
      "text/plain": [
       "{0: 0, 1: 1, 2: 4, 3: 9, 4: 16}"
      ]
     },
     "execution_count": 43,
     "metadata": {},
     "output_type": "execute_result"
    }
   ],
   "source": [
    "squares = {x: x*x for x in range(5)}\n",
    "squares\n"
   ]
  },
  {
   "cell_type": "markdown",
   "id": "742ec192",
   "metadata": {},
   "source": [
    "## Clearing a Dictionary\n",
    "\n",
    "Use `.clear()` to remove all items from a dictionary.\n"
   ]
  },
  {
   "cell_type": "code",
   "execution_count": 44,
   "id": "63ef7b4e",
   "metadata": {},
   "outputs": [
    {
     "data": {
      "text/plain": [
       "{}"
      ]
     },
     "execution_count": 44,
     "metadata": {},
     "output_type": "execute_result"
    }
   ],
   "source": [
    "d.clear()\n",
    "d\n"
   ]
  }
 ],
 "metadata": {
  "language_info": {
   "name": "python"
  }
 },
 "nbformat": 4,
 "nbformat_minor": 5
}
