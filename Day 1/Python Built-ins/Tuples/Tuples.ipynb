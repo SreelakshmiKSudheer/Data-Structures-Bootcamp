{
 "cells": [
  {
   "cell_type": "markdown",
   "id": "61681d8e",
   "metadata": {},
   "source": [
    "## Tuple Creation\n",
    "\n",
    "Tuples are immutable and ordered collections. You can create them using parentheses `()` or just commas.\n"
   ]
  },
  {
   "cell_type": "code",
   "execution_count": 1,
   "id": "dcfbbbe4",
   "metadata": {},
   "outputs": [
    {
     "data": {
      "text/plain": [
       "((), (1, 2, 3), (1, 'hello', 3.14), (1, (2, 3), [4, 5]), (1, 2, 3))"
      ]
     },
     "execution_count": 1,
     "metadata": {},
     "output_type": "execute_result"
    }
   ],
   "source": [
    "# Empty tuple\n",
    "t1 = ()\n",
    "\n",
    "# Tuple with elements\n",
    "t2 = (1, 2, 3)\n",
    "\n",
    "# Tuple with different data types\n",
    "t3 = (1, \"hello\", 3.14)\n",
    "\n",
    "# Nested tuple\n",
    "t4 = (1, (2, 3), [4, 5])\n",
    "\n",
    "# Without parentheses (tuple packing)\n",
    "t5 = 1, 2, 3\n",
    "\n",
    "t1, t2, t3, t4, t5\n"
   ]
  },
  {
   "cell_type": "markdown",
   "id": "3b276bff",
   "metadata": {},
   "source": [
    "## Indexing\n",
    "\n",
    "Access individual elements using square brackets `[]` with zero-based indexing.\n"
   ]
  },
  {
   "cell_type": "code",
   "execution_count": 2,
   "id": "37ff6f64",
   "metadata": {},
   "outputs": [
    {
     "data": {
      "text/plain": [
       "(10, 30)"
      ]
     },
     "execution_count": 2,
     "metadata": {},
     "output_type": "execute_result"
    }
   ],
   "source": [
    "t = (10, 20, 30)\n",
    "first = t[0]\n",
    "last = t[-1]\n",
    "\n",
    "first, last\n"
   ]
  },
  {
   "cell_type": "markdown",
   "id": "9aafb377",
   "metadata": {},
   "source": [
    "## Slicing\n",
    "\n",
    "Retrieve a subrange using slice notation `[start:end:step]`.\n"
   ]
  },
  {
   "cell_type": "code",
   "execution_count": 3,
   "id": "5817790a",
   "metadata": {},
   "outputs": [
    {
     "data": {
      "text/plain": [
       "((20, 30, 40), (50, 40, 30, 20, 10))"
      ]
     },
     "execution_count": 3,
     "metadata": {},
     "output_type": "execute_result"
    }
   ],
   "source": [
    "t = (10, 20, 30, 40, 50)\n",
    "part = t[1:4]\n",
    "reverse = t[::-1]\n",
    "\n",
    "part, reverse"
   ]
  },
  {
   "cell_type": "markdown",
   "id": "84e1492b",
   "metadata": {},
   "source": [
    "## Concatenation\n",
    "\n",
    "You can concatenate two tuples using the `+` operator.\n"
   ]
  },
  {
   "cell_type": "code",
   "execution_count": 4,
   "id": "d4282448",
   "metadata": {},
   "outputs": [
    {
     "data": {
      "text/plain": [
       "(1, 2, 3, 4)"
      ]
     },
     "execution_count": 4,
     "metadata": {},
     "output_type": "execute_result"
    }
   ],
   "source": [
    "a = (1, 2)\n",
    "b = (3, 4)\n",
    "c = a + b\n",
    "\n",
    "c\n"
   ]
  },
  {
   "cell_type": "markdown",
   "id": "173bc5c7",
   "metadata": {},
   "source": [
    "## Repetition\n",
    "\n",
    "Repeat a tuple multiple times using the `*` operator.\n"
   ]
  },
  {
   "cell_type": "code",
   "execution_count": 5,
   "id": "48222537",
   "metadata": {},
   "outputs": [
    {
     "data": {
      "text/plain": [
       "(1, 2, 1, 2, 1, 2)"
      ]
     },
     "execution_count": 5,
     "metadata": {},
     "output_type": "execute_result"
    }
   ],
   "source": [
    "a = (1, 2)\n",
    "repeated = a * 3\n",
    "\n",
    "repeated\n"
   ]
  },
  {
   "cell_type": "markdown",
   "id": "fdead351",
   "metadata": {},
   "source": [
    "## Membership Test\n",
    "\n",
    "Use `in` and `not in` to test for existence of an element in a tuple.\n"
   ]
  },
  {
   "cell_type": "code",
   "execution_count": 6,
   "id": "73d325a2",
   "metadata": {},
   "outputs": [
    {
     "data": {
      "text/plain": [
       "(True, True)"
      ]
     },
     "execution_count": 6,
     "metadata": {},
     "output_type": "execute_result"
    }
   ],
   "source": [
    "t = (1, 2, 3)\n",
    "result1 = 2 in t\n",
    "result2 = 5 not in t\n",
    "\n",
    "result1, result2\n"
   ]
  },
  {
   "cell_type": "markdown",
   "id": "561cc3bb",
   "metadata": {},
   "source": [
    "## Iteration\n",
    "\n",
    "Tuples can be iterated using a `for` loop just like lists.\n"
   ]
  },
  {
   "cell_type": "code",
   "execution_count": 7,
   "id": "eaf86d1f",
   "metadata": {},
   "outputs": [
    {
     "name": "stdout",
     "output_type": "stream",
     "text": [
      "1\n",
      "2\n",
      "3\n"
     ]
    }
   ],
   "source": [
    "t = (1, 2, 3)\n",
    "for item in t:\n",
    "    print(item)\n"
   ]
  },
  {
   "cell_type": "markdown",
   "id": "76e1da5d",
   "metadata": {},
   "source": [
    "## len()\n",
    "\n",
    "Returns the number of elements in a tuple.\n"
   ]
  },
  {
   "cell_type": "code",
   "execution_count": 8,
   "id": "8eef5045",
   "metadata": {},
   "outputs": [
    {
     "data": {
      "text/plain": [
       "3"
      ]
     },
     "execution_count": 8,
     "metadata": {},
     "output_type": "execute_result"
    }
   ],
   "source": [
    "t = (1, 2, 3)\n",
    "length = len(t)\n",
    "\n",
    "length\n"
   ]
  },
  {
   "cell_type": "markdown",
   "id": "064a3a97",
   "metadata": {},
   "source": [
    "## max()\n",
    "\n",
    "Returns the largest item in the tuple.\n"
   ]
  },
  {
   "cell_type": "code",
   "execution_count": 9,
   "id": "7903a725",
   "metadata": {},
   "outputs": [
    {
     "data": {
      "text/plain": [
       "9"
      ]
     },
     "execution_count": 9,
     "metadata": {},
     "output_type": "execute_result"
    }
   ],
   "source": [
    "t = (5, 1, 9, 4)\n",
    "maximum = max(t)\n",
    "\n",
    "maximum\n"
   ]
  },
  {
   "cell_type": "markdown",
   "id": "7b57bbb4",
   "metadata": {},
   "source": [
    "## min()\n",
    "\n",
    "Returns the smallest item in the tuple.\n"
   ]
  },
  {
   "cell_type": "code",
   "execution_count": null,
   "id": "1963b15e",
   "metadata": {},
   "outputs": [],
   "source": []
  },
  {
   "cell_type": "code",
   "execution_count": 10,
   "id": "062143e9",
   "metadata": {},
   "outputs": [
    {
     "data": {
      "text/plain": [
       "1"
      ]
     },
     "execution_count": 10,
     "metadata": {},
     "output_type": "execute_result"
    }
   ],
   "source": [
    "t = (5, 1, 9, 4)\n",
    "minimum = min(t)\n",
    "\n",
    "minimum\n"
   ]
  },
  {
   "cell_type": "markdown",
   "id": "22bb594b",
   "metadata": {},
   "source": [
    "## sum()\n",
    "\n",
    "Returns the total of numeric elements in the tuple.\n"
   ]
  },
  {
   "cell_type": "code",
   "execution_count": 11,
   "id": "498df9fd",
   "metadata": {},
   "outputs": [
    {
     "data": {
      "text/plain": [
       "6"
      ]
     },
     "execution_count": 11,
     "metadata": {},
     "output_type": "execute_result"
    }
   ],
   "source": [
    "t = (1, 2, 3)\n",
    "total = sum(t)\n",
    "\n",
    "total\n"
   ]
  },
  {
   "cell_type": "markdown",
   "id": "73093883",
   "metadata": {},
   "source": [
    "## any()\n",
    "\n",
    "Returns `True` if at least one element is truthy.\n"
   ]
  },
  {
   "cell_type": "code",
   "execution_count": 12,
   "id": "91b0eea2",
   "metadata": {},
   "outputs": [
    {
     "data": {
      "text/plain": [
       "True"
      ]
     },
     "execution_count": 12,
     "metadata": {},
     "output_type": "execute_result"
    }
   ],
   "source": [
    "t = (0, False, 5)\n",
    "result = any(t)\n",
    "\n",
    "result\n"
   ]
  },
  {
   "cell_type": "markdown",
   "id": "bbab1309",
   "metadata": {},
   "source": [
    "## all()\n",
    "\n",
    "Returns `True` only if all elements are truthy.\n"
   ]
  },
  {
   "cell_type": "code",
   "execution_count": 13,
   "id": "5285a892",
   "metadata": {},
   "outputs": [
    {
     "data": {
      "text/plain": [
       "(True, False)"
      ]
     },
     "execution_count": 13,
     "metadata": {},
     "output_type": "execute_result"
    }
   ],
   "source": [
    "t1 = (1, 2, 3)\n",
    "t2 = (1, 0, 3)\n",
    "\n",
    "res1 = all(t1)\n",
    "res2 = all(t2)\n",
    "\n",
    "res1, res2\n"
   ]
  },
  {
   "cell_type": "markdown",
   "id": "7da5f7c7",
   "metadata": {},
   "source": [
    "## sorted()\n",
    "\n",
    "Returns a sorted list of the tuple elements (does not modify the original tuple).\n"
   ]
  },
  {
   "cell_type": "code",
   "execution_count": 14,
   "id": "8c59b031",
   "metadata": {},
   "outputs": [
    {
     "data": {
      "text/plain": [
       "[1, 2, 3]"
      ]
     },
     "execution_count": 14,
     "metadata": {},
     "output_type": "execute_result"
    }
   ],
   "source": [
    "t = (3, 1, 2)\n",
    "sorted_list = sorted(t)\n",
    "\n",
    "sorted_list\n"
   ]
  },
  {
   "cell_type": "markdown",
   "id": "9cc2270c",
   "metadata": {},
   "source": [
    "## tuple()\n",
    "\n",
    "Used to convert other iterable objects (like lists) into tuples.\n"
   ]
  },
  {
   "cell_type": "code",
   "execution_count": 15,
   "id": "d5515a06",
   "metadata": {},
   "outputs": [
    {
     "data": {
      "text/plain": [
       "(1, 2, 3)"
      ]
     },
     "execution_count": 15,
     "metadata": {},
     "output_type": "execute_result"
    }
   ],
   "source": [
    "l = [1, 2, 3]\n",
    "t = tuple(l)\n",
    "\n",
    "t\n"
   ]
  },
  {
   "cell_type": "markdown",
   "id": "285c9c6a",
   "metadata": {},
   "source": [
    "## count()\n",
    "\n",
    "Returns the number of times a value appears in the tuple.\n"
   ]
  },
  {
   "cell_type": "code",
   "execution_count": 16,
   "id": "72518edb",
   "metadata": {},
   "outputs": [
    {
     "data": {
      "text/plain": [
       "3"
      ]
     },
     "execution_count": 16,
     "metadata": {},
     "output_type": "execute_result"
    }
   ],
   "source": [
    "t = (1, 2, 1, 3, 1)\n",
    "count_1 = t.count(1)\n",
    "\n",
    "count_1\n"
   ]
  },
  {
   "cell_type": "markdown",
   "id": "3e040771",
   "metadata": {},
   "source": [
    "## index()\n",
    "\n",
    "Returns the first index of the value passed. Raises `ValueError` if not found.\n"
   ]
  },
  {
   "cell_type": "code",
   "execution_count": 17,
   "id": "65e61154",
   "metadata": {},
   "outputs": [
    {
     "data": {
      "text/plain": [
       "1"
      ]
     },
     "execution_count": 17,
     "metadata": {},
     "output_type": "execute_result"
    }
   ],
   "source": [
    "t = (10, 20, 30, 20)\n",
    "index_20 = t.index(20)\n",
    "\n",
    "index_20\n"
   ]
  },
  {
   "cell_type": "markdown",
   "id": "b1ef381b",
   "metadata": {},
   "source": [
    "## Packing and Unpacking\n",
    "\n",
    "Tuples can be packed with multiple values and unpacked into variables.\n"
   ]
  },
  {
   "cell_type": "code",
   "execution_count": 18,
   "id": "9a8ea590",
   "metadata": {},
   "outputs": [
    {
     "data": {
      "text/plain": [
       "(1, 2, 3)"
      ]
     },
     "execution_count": 18,
     "metadata": {},
     "output_type": "execute_result"
    }
   ],
   "source": [
    "# Packing\n",
    "t = 1, 2, 3\n",
    "\n",
    "# Unpacking\n",
    "a, b, c = t\n",
    "\n",
    "a, b, c\n"
   ]
  },
  {
   "cell_type": "markdown",
   "id": "83019eb3",
   "metadata": {},
   "source": [
    "## Nested Tuple Access\n",
    "\n",
    "Tuples can contain other tuples or lists. Access nested elements using multiple indices.\n"
   ]
  },
  {
   "cell_type": "code",
   "execution_count": 19,
   "id": "19849b7e",
   "metadata": {},
   "outputs": [
    {
     "data": {
      "text/plain": [
       "(3, 4)"
      ]
     },
     "execution_count": 19,
     "metadata": {},
     "output_type": "execute_result"
    }
   ],
   "source": [
    "t = (1, (2, 3), [4, 5])\n",
    "nested_tuple_element = t[1][1]\n",
    "nested_list_element = t[2][0]\n",
    "\n",
    "nested_tuple_element, nested_list_element\n"
   ]
  },
  {
   "cell_type": "markdown",
   "id": "067212df",
   "metadata": {},
   "source": [
    "## Immutability\n",
    "\n",
    "Tuples are immutable. You cannot modify their elements after creation.\n"
   ]
  },
  {
   "cell_type": "code",
   "execution_count": 20,
   "id": "b2a2edf6",
   "metadata": {},
   "outputs": [
    {
     "data": {
      "text/plain": [
       "\"Tuples are immutable, so you can't change their contents.\""
      ]
     },
     "execution_count": 20,
     "metadata": {},
     "output_type": "execute_result"
    }
   ],
   "source": [
    "t = (1, 2, 3)\n",
    "# Uncommenting below will raise TypeError\n",
    "# t[0] = 10\n",
    "\n",
    "\"Tuples are immutable, so you can't change their contents.\"\n"
   ]
  }
 ],
 "metadata": {
  "kernelspec": {
   "display_name": "Python 3",
   "language": "python",
   "name": "python3"
  },
  "language_info": {
   "codemirror_mode": {
    "name": "ipython",
    "version": 3
   },
   "file_extension": ".py",
   "mimetype": "text/x-python",
   "name": "python",
   "nbconvert_exporter": "python",
   "pygments_lexer": "ipython3",
   "version": "3.13.3"
  }
 },
 "nbformat": 4,
 "nbformat_minor": 5
}
