{
 "cells": [
  {
   "cell_type": "markdown",
   "id": "269ee083",
   "metadata": {},
   "source": [
    "## Creating Dictionaries\n",
    "\n",
    "A dictionary is a collection of key-value pairs. Each key must be unique and immutable.\n"
   ]
  },
  {
   "cell_type": "code",
   "execution_count": null,
   "id": "7aa455d5",
   "metadata": {},
   "outputs": [],
   "source": [
    "d1 = {'name': 'Alice', 'age': 25}\n",
    "d2 = dict(city='New York', country='USA')\n",
    "d1, d2\n"
   ]
  },
  {
   "cell_type": "markdown",
   "id": "617b76ed",
   "metadata": {},
   "source": [
    "## Creating Dictionary from Keys\n",
    "\n",
    "Use `dict.fromkeys()` to generate a new dictionary from a list of keys with the same default value.\n"
   ]
  },
  {
   "cell_type": "code",
   "execution_count": null,
   "id": "ca87f896",
   "metadata": {},
   "outputs": [],
   "source": [
    "keys = ['id', 'role', 'status']\n",
    "default_value = 'unknown'\n",
    "d3 = dict.fromkeys(keys, default_value)\n",
    "d3\n"
   ]
  },
  {
   "cell_type": "markdown",
   "id": "232a706c",
   "metadata": {},
   "source": [
    "## Accessing Items\n",
    "\n",
    "Access dictionary values using brackets or the `get()` method.\n"
   ]
  },
  {
   "cell_type": "code",
   "execution_count": null,
   "id": "2ac7adb2",
   "metadata": {},
   "outputs": [],
   "source": [
    "print(d1['name'])              # Alice\n",
    "print(d1.get('age'))           # 25\n",
    "print(d1.get('gender'))        # None\n",
    "print(d1.get('gender', 'Not Specified'))  # Not Specified\n"
   ]
  },
  {
   "cell_type": "markdown",
   "id": "7c0a4a4e",
   "metadata": {},
   "source": [
    "## Adding and Updating Items\n",
    "\n",
    "Add new key-value pairs or update existing ones using bracket notation.\n"
   ]
  },
  {
   "cell_type": "code",
   "execution_count": null,
   "id": "cf64fe29",
   "metadata": {},
   "outputs": [],
   "source": [
    "d1['email'] = 'alice@example.com'\n",
    "d1['age'] = 26\n",
    "d1\n"
   ]
  },
  {
   "cell_type": "markdown",
   "id": "3fd10f2a",
   "metadata": {},
   "source": [
    "## Removing Items\n",
    "\n",
    "Use `del`, `pop()`, or `popitem()` to remove entries.\n"
   ]
  },
  {
   "cell_type": "code",
   "execution_count": null,
   "id": "db59ad1a",
   "metadata": {},
   "outputs": [],
   "source": [
    "# Remove by key\n",
    "d1.pop('email')\n",
    "\n",
    "# Remove the last inserted item\n",
    "last_item = d1.popitem()\n",
    "\n",
    "d1, last_item\n"
   ]
  },
  {
   "cell_type": "markdown",
   "id": "30225a9b",
   "metadata": {},
   "source": [
    "## Checking for Keys\n",
    "\n",
    "Use `in` to check if a key exists in the dictionary.\n"
   ]
  },
  {
   "cell_type": "code",
   "execution_count": null,
   "id": "9a04bc30",
   "metadata": {},
   "outputs": [],
   "source": [
    "'name' in d1   # True\n",
    "'email' in d1  # False\n"
   ]
  },
  {
   "cell_type": "markdown",
   "id": "54af7834",
   "metadata": {},
   "source": [
    "## Iterating Through Dictionary\n",
    "\n",
    "You can iterate over keys, values, or key-value pairs.\n"
   ]
  },
  {
   "cell_type": "code",
   "execution_count": null,
   "id": "99da2f79",
   "metadata": {},
   "outputs": [],
   "source": [
    "# Keys\n",
    "for k in d1:\n",
    "    print(k)\n",
    "\n",
    "# Values\n",
    "for v in d1.values():\n",
    "    print(v)\n",
    "\n",
    "# Key-value pairs\n",
    "for k, v in d1.items():\n",
    "    print(f\"{k}: {v}\")\n"
   ]
  },
  {
   "cell_type": "markdown",
   "id": "75d4f9ed",
   "metadata": {},
   "source": [
    "## Merging Dictionaries\n",
    "\n",
    "Use `update()` to merge another dictionary into the current one.\n"
   ]
  },
  {
   "cell_type": "code",
   "execution_count": null,
   "id": "63490612",
   "metadata": {},
   "outputs": [],
   "source": [
    "a = {'x': 1, 'y': 2}\n",
    "b = {'y': 100, 'z': 3}\n",
    "\n",
    "a.update(b)\n",
    "a\n"
   ]
  },
  {
   "cell_type": "markdown",
   "id": "aacffdf1",
   "metadata": {},
   "source": [
    "## Dictionary Methods Summary\n",
    "\n",
    "- `.clear()` – remove all items  \n",
    "- `.copy()` – shallow copy  \n",
    "- `.fromkeys()` – create dict from keys  \n",
    "- `.get()` – access by key  \n",
    "- `.items()` – key-value pairs  \n",
    "- `.keys()` – all keys  \n",
    "- `.values()` – all values  \n",
    "- `.pop()` – remove by key  \n",
    "- `.popitem()` – remove last inserted  \n",
    "- `.setdefault()` – get or insert  \n",
    "- `.update()` – merge dictionaries  \n"
   ]
  },
  {
   "cell_type": "code",
   "execution_count": null,
   "id": "2d90e0f9",
   "metadata": {},
   "outputs": [],
   "source": [
    "d = {'x': 1, 'y': 2}\n",
    "\n",
    "print(d.copy())\n",
    "print(dict.fromkeys(['a', 'b'], 0))\n",
    "print(d.get('x'))\n",
    "print(list(d.items()))\n",
    "print(list(d.keys()))\n",
    "print(list(d.values()))\n",
    "\n",
    "d.setdefault('z', 5)\n",
    "d.update({'y': 10, 'z': 20})\n",
    "d\n"
   ]
  },
  {
   "cell_type": "markdown",
   "id": "a7ab57e2",
   "metadata": {},
   "source": [
    "## Dictionary Comprehension\n",
    "\n",
    "Create dictionaries in a single line using comprehension.\n"
   ]
  },
  {
   "cell_type": "code",
   "execution_count": null,
   "id": "e645f5d7",
   "metadata": {},
   "outputs": [],
   "source": [
    "squares = {x: x*x for x in range(5)}\n",
    "squares\n"
   ]
  },
  {
   "cell_type": "markdown",
   "id": "742ec192",
   "metadata": {},
   "source": [
    "## Clearing a Dictionary\n",
    "\n",
    "Use `.clear()` to remove all items from a dictionary.\n"
   ]
  },
  {
   "cell_type": "code",
   "execution_count": null,
   "id": "63ef7b4e",
   "metadata": {},
   "outputs": [],
   "source": [
    "d.clear()\n",
    "d\n"
   ]
  }
 ],
 "metadata": {
  "language_info": {
   "name": "python"
  }
 },
 "nbformat": 4,
 "nbformat_minor": 5
}
