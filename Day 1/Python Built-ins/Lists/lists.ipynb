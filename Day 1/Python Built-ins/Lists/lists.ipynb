{
 "cells": [
  {
   "cell_type": "markdown",
   "id": "cb04230a",
   "metadata": {},
   "source": [
    "A list in Python is an ordered, mutable collection used to store multiple items in a single variable. Lists are one of the most commonly used built-in data structures in Python."
   ]
  },
  {
   "cell_type": "code",
   "execution_count": 16,
   "id": "2d915fb8",
   "metadata": {},
   "outputs": [],
   "source": [
    "fruits = ['apple', 'banana', 'cherry']\n",
    "empty_list = []"
   ]
  },
  {
   "cell_type": "markdown",
   "id": "b5ef938f",
   "metadata": {},
   "source": [
    "## Basic operations"
   ]
  },
  {
   "cell_type": "code",
   "execution_count": 14,
   "id": "3f05c475",
   "metadata": {},
   "outputs": [
    {
     "name": "stdout",
     "output_type": "stream",
     "text": [
      "apple\n",
      "cherry\n"
     ]
    }
   ],
   "source": [
    "print(fruits[0])        # Indexing → 'apple'\n",
    "print(fruits[-1])       # Negative Indexing → 'cherry'"
   ]
  },
  {
   "cell_type": "markdown",
   "id": "260ac633",
   "metadata": {},
   "source": [
    "## Updating value"
   ]
  },
  {
   "cell_type": "code",
   "execution_count": 15,
   "id": "4b0698c5",
   "metadata": {},
   "outputs": [
    {
     "name": "stdout",
     "output_type": "stream",
     "text": [
      "['apple', 'blueberry', 'cherry']\n"
     ]
    }
   ],
   "source": [
    "fruits[1] = 'blueberry' # Updating value\n",
    "print(fruits)           # ['apple', 'blueberry', 'cherry']"
   ]
  },
  {
   "cell_type": "markdown",
   "id": "f038113e",
   "metadata": {},
   "source": [
    "len() function returns the number of elements in a list"
   ]
  },
  {
   "cell_type": "code",
   "execution_count": 16,
   "id": "7f87940d",
   "metadata": {},
   "outputs": [
    {
     "name": "stdout",
     "output_type": "stream",
     "text": [
      "3\n"
     ]
    }
   ],
   "source": [
    "print(len(fruits))      # Length → 3"
   ]
  },
  {
   "cell_type": "markdown",
   "id": "0fcf9674",
   "metadata": {},
   "source": [
    "Membership of an item in a list can be checked using 'in' ie to check whether an item is in the list or not."
   ]
  },
  {
   "cell_type": "code",
   "execution_count": 17,
   "id": "bc35da1a",
   "metadata": {},
   "outputs": [
    {
     "name": "stdout",
     "output_type": "stream",
     "text": [
      "True\n"
     ]
    }
   ],
   "source": [
    "print('apple' in fruits) # Membership → True"
   ]
  },
  {
   "cell_type": "markdown",
   "id": "6bcb5d4a",
   "metadata": {},
   "source": [
    "A list in Python is an ```iterable```, which means you can loop through its elements one by one. \n",
    "\n",
    "What is an Iterable?\n",
    "An iterable is any Python object capable of returning its elements one at a time, allowing it to be used in a for loop or passed to functions like list(), sum(), or enumerate().\n",
    "\n",
    "Since Python list implements the __iter__() method internally, which returns an iterator object."
   ]
  },
  {
   "cell_type": "code",
   "execution_count": 18,
   "id": "2691b90e",
   "metadata": {},
   "outputs": [
    {
     "name": "stdout",
     "output_type": "stream",
     "text": [
      "apple\n",
      "blueberry\n",
      "cherry\n"
     ]
    }
   ],
   "source": [
    "for fruit in fruits:\n",
    "    print(fruit)"
   ]
  },
  {
   "cell_type": "markdown",
   "id": "bc817bc3",
   "metadata": {},
   "source": [
    "## List methods"
   ]
  },
  {
   "cell_type": "markdown",
   "id": "7bb41cb8",
   "metadata": {},
   "source": [
    "### Append - <list_name>.append(<item>)\n",
    "append(x): Adds item x to the end of the list"
   ]
  },
  {
   "cell_type": "code",
   "execution_count": 19,
   "id": "8485159e",
   "metadata": {},
   "outputs": [
    {
     "name": "stdout",
     "output_type": "stream",
     "text": [
      "['apple', 'blueberry', 'cherry', 'date']\n"
     ]
    }
   ],
   "source": [
    "fruits.append('date')               # Add at end\n",
    "print(fruits)"
   ]
  },
  {
   "cell_type": "markdown",
   "id": "fef4c5b2",
   "metadata": {},
   "source": [
    "### Insert - <list_name>.insert(<index>,<item>)\n",
    "insert(i, x): Inserts x at index i, shifting later elements right."
   ]
  },
  {
   "cell_type": "code",
   "execution_count": 20,
   "id": "e6256cd0",
   "metadata": {},
   "outputs": [
    {
     "name": "stdout",
     "output_type": "stream",
     "text": [
      "['apple', 'banana', 'blueberry', 'cherry', 'date']\n"
     ]
    }
   ],
   "source": [
    "fruits.insert(1, 'banana')          # Add at specific index\n",
    "print(fruits)"
   ]
  },
  {
   "cell_type": "markdown",
   "id": "519289f8",
   "metadata": {},
   "source": [
    "### Extend - <list_name>.extend(<iterable>)\n",
    "extend(iterable): Adds all elements from the given iterable to the end of the list."
   ]
  },
  {
   "cell_type": "code",
   "execution_count": 21,
   "id": "8c584e1f",
   "metadata": {},
   "outputs": [
    {
     "name": "stdout",
     "output_type": "stream",
     "text": [
      "['apple', 'banana', 'blueberry', 'cherry', 'date', 'elderberry', 'fig']\n"
     ]
    }
   ],
   "source": [
    "fruits.extend(['elderberry', 'fig'])# Add multiple items\n",
    "print(fruits)"
   ]
  },
  {
   "cell_type": "markdown",
   "id": "e0bfd1f0",
   "metadata": {},
   "source": [
    "### Removing an Element - <list_name>.remove(<item>)\n",
    "insert(i, x): Inserts x at index i, shifting later elements right."
   ]
  },
  {
   "cell_type": "code",
   "execution_count": 22,
   "id": "14f6b029",
   "metadata": {},
   "outputs": [
    {
     "name": "stdout",
     "output_type": "stream",
     "text": [
      "['apple', 'blueberry', 'cherry', 'date', 'elderberry', 'fig']\n"
     ]
    }
   ],
   "source": [
    "fruits.remove('banana')             # Removes first occurrence\n",
    "print(fruits)\n"
   ]
  },
  {
   "cell_type": "markdown",
   "id": "1846f020",
   "metadata": {},
   "source": [
    "### Pop - <list_name>.pop([index])\n",
    "pop([i]): Removes and returns the item at the given position in the list. If no index is specified, removes and returns the last item."
   ]
  },
  {
   "cell_type": "code",
   "execution_count": null,
   "id": "4b1a1367",
   "metadata": {},
   "outputs": [
    {
     "name": "stdout",
     "output_type": "stream",
     "text": [
      "['apple', 'blueberry', 'cherry', 'date', 'elderberry']\n"
     ]
    }
   ],
   "source": [
    "popped = fruits.pop()               # Removes last item\n",
    "print(fruits)\n",
    "fruits.pop(1)\n",
    "print(fruits)   "
   ]
  },
  {
   "cell_type": "markdown",
   "id": "868f497e",
   "metadata": {},
   "source": [
    "### Clear - <list_name>.clear()\n",
    "clear(): Removes all items from the list, leaving it empty."
   ]
  },
  {
   "cell_type": "code",
   "execution_count": 17,
   "id": "e67f3840",
   "metadata": {},
   "outputs": [
    {
     "name": "stdout",
     "output_type": "stream",
     "text": [
      "[]\n"
     ]
    }
   ],
   "source": [
    "fruits.clear()                      # Removes all elements\n",
    "print(fruits)"
   ]
  },
  {
   "cell_type": "code",
   "execution_count": 18,
   "id": "0889611b",
   "metadata": {},
   "outputs": [],
   "source": [
    "fruits = ['apple', 'banana', 'cherry', 'banana']\n"
   ]
  },
  {
   "cell_type": "markdown",
   "id": "32c2a2d3",
   "metadata": {},
   "source": [
    "### Index - <list_name>.index(<item>)\n",
    "index(x): Returns the index of the first occurrence of item x in the list. Raises a ValueError if the item is not found."
   ]
  },
  {
   "cell_type": "code",
   "execution_count": 19,
   "id": "de9ee745",
   "metadata": {},
   "outputs": [
    {
     "name": "stdout",
     "output_type": "stream",
     "text": [
      "1\n"
     ]
    }
   ],
   "source": [
    "index = fruits.index('banana')     # First index of 'banana'\n",
    "print(index)  # Raises ValueError if 'banana' not found"
   ]
  },
  {
   "cell_type": "markdown",
   "id": "ee9d0af7",
   "metadata": {},
   "source": [
    "### Count - <list_name>.count(<item>)\n",
    "count(x): Returns the number of times item x appears in the list."
   ]
  },
  {
   "cell_type": "code",
   "execution_count": 4,
   "id": "f977e04d",
   "metadata": {},
   "outputs": [
    {
     "name": "stdout",
     "output_type": "stream",
     "text": [
      "2\n"
     ]
    }
   ],
   "source": [
    "count = fruits.count('banana')     # Count occurrences\n",
    "print(count)  # 2"
   ]
  },
  {
   "cell_type": "markdown",
   "id": "cb133a2c",
   "metadata": {},
   "source": [
    "### Sort - <list_name>.sort()\n",
    "sort(): Sorts the items of the list in place (ascending order by default). You can use the `reverse=True` argument to sort in descending order."
   ]
  },
  {
   "cell_type": "code",
   "execution_count": 6,
   "id": "e35acdeb",
   "metadata": {},
   "outputs": [
    {
     "name": "stdout",
     "output_type": "stream",
     "text": [
      "['apple', 'banana', 'banana', 'cherry']\n",
      "['cherry', 'banana', 'banana', 'apple']\n"
     ]
    }
   ],
   "source": [
    "fruits.sort()                      # Ascending order\n",
    "print(fruits)\n",
    "fruits.sort(reverse=True)          # Descending order\n",
    "print(fruits)"
   ]
  },
  {
   "cell_type": "markdown",
   "id": "65e0962d",
   "metadata": {},
   "source": [
    "### Reverse - <list_name>.reverse()\n",
    "reverse(): Reverses the elements of the list in place."
   ]
  },
  {
   "cell_type": "code",
   "execution_count": 7,
   "id": "bc8add30",
   "metadata": {},
   "outputs": [
    {
     "name": "stdout",
     "output_type": "stream",
     "text": [
      "['apple', 'banana', 'banana', 'cherry']\n"
     ]
    }
   ],
   "source": [
    "fruits.reverse()                   # Just reverse, not sort\n",
    "print(fruits)  # ['cherry', 'banana', 'banana', 'apple']"
   ]
  },
  {
   "cell_type": "markdown",
   "id": "4faf84f8",
   "metadata": {},
   "source": [
    "### Copy - <list_name>.copy()\n",
    "copy(): Returns a shallow copy of the list. Modifying the copied list does not affect the original list."
   ]
  },
  {
   "cell_type": "code",
   "execution_count": 8,
   "id": "9fbb47b1",
   "metadata": {},
   "outputs": [
    {
     "name": "stdout",
     "output_type": "stream",
     "text": [
      "['apple', 'banana', 'banana', 'cherry']\n"
     ]
    }
   ],
   "source": [
    "new_fruits = fruits.copy()         # Shallow copy\n",
    "print(new_fruits)  # ['cherry', 'banana', 'banana', 'apple']"
   ]
  },
  {
   "cell_type": "code",
   "execution_count": null,
   "id": "2953ee7e",
   "metadata": {
    "vscode": {
     "languageId": "markdown"
    }
   },
   "outputs": [],
   "source": [
    "### Combining Lists with the `+` Operator\n",
    "\n",
    "You can combine (concatenate) two lists in Python using the `+` operator. This creates a new list containing all the elements from both lists.\n",
    "\n",
    "**Example:**"
   ]
  },
  {
   "cell_type": "code",
   "execution_count": 20,
   "id": "72646a63",
   "metadata": {},
   "outputs": [
    {
     "name": "stdout",
     "output_type": "stream",
     "text": [
      "['apple', 'banana', 'cherry', 'banana', 'grape', 'honeydew']\n"
     ]
    }
   ],
   "source": [
    "more_fruits = fruits + ['grape', 'honeydew']\n",
    "print(more_fruits)  # Concatenation → ['cherry', 'banana', 'banana', 'apple', 'grape', 'honeydew']"
   ]
  },
  {
   "cell_type": "code",
   "execution_count": null,
   "id": "d1035cee",
   "metadata": {
    "vscode": {
     "languageId": "markdown"
    }
   },
   "outputs": [],
   "source": [
    "## List Slicing\n",
    "\n",
    "Slicing allows you to access a range of elements in a list using the syntax `list[start:stop:step]`.\n",
    "\n",
    "- `start`: The index to start the slice (inclusive).\n",
    "- `stop`: The index to end the slice (exclusive).\n",
    "- `step`: The interval between elements (optional).\n",
    "\n",
    "**Examples:**\n",
    "- `fruits[1:3]` returns elements from index 1 up to (but not including) index 3.\n",
    "- `fruits[:2]` returns the first two elements.\n",
    "- `fruits[::2]` returns every second element.\n",
    "- `fruits[::-1]` returns the list in reverse order."
   ]
  },
  {
   "cell_type": "markdown",
   "id": "729e5cfa",
   "metadata": {},
   "source": [
    "### Basic Slicing"
   ]
  },
  {
   "cell_type": "code",
   "execution_count": 21,
   "id": "6fef955a",
   "metadata": {
    "vscode": {
     "languageId": "markdown"
    }
   },
   "outputs": [
    {
     "name": "stdout",
     "output_type": "stream",
     "text": [
      "['banana', 'cherry', 'banana']\n"
     ]
    }
   ],
   "source": [
    "print(fruits[1:4])     # ['banana', 'cherry', 'date']\n"
   ]
  },
  {
   "cell_type": "code",
   "execution_count": 22,
   "id": "9a7bd78a",
   "metadata": {
    "vscode": {
     "languageId": "markdown"
    }
   },
   "outputs": [
    {
     "name": "stdout",
     "output_type": "stream",
     "text": [
      "['apple', 'banana', 'cherry']\n"
     ]
    }
   ],
   "source": [
    "print(fruits[:3])      # ['apple', 'banana', 'cherry']"
   ]
  },
  {
   "cell_type": "code",
   "execution_count": 23,
   "id": "26364794",
   "metadata": {
    "vscode": {
     "languageId": "markdown"
    }
   },
   "outputs": [
    {
     "name": "stdout",
     "output_type": "stream",
     "text": [
      "['banana']\n"
     ]
    }
   ],
   "source": [
    "print(fruits[3:])      # ['date', 'elderberry', 'fig', 'grape']\n"
   ]
  },
  {
   "cell_type": "code",
   "execution_count": 24,
   "id": "1b211b6e",
   "metadata": {
    "vscode": {
     "languageId": "markdown"
    }
   },
   "outputs": [
    {
     "name": "stdout",
     "output_type": "stream",
     "text": [
      "['banana', 'cherry', 'banana']\n"
     ]
    }
   ],
   "source": [
    "print(fruits[-3:])     # ['elderberry', 'fig', 'grape']\n"
   ]
  },
  {
   "cell_type": "code",
   "execution_count": 25,
   "id": "324aa14c",
   "metadata": {
    "vscode": {
     "languageId": "markdown"
    }
   },
   "outputs": [
    {
     "name": "stdout",
     "output_type": "stream",
     "text": [
      "['apple', 'banana']\n"
     ]
    }
   ],
   "source": [
    "print(fruits[:-2])     # ['apple', 'banana', 'cherry', 'date', 'elderberry']\n"
   ]
  },
  {
   "cell_type": "code",
   "execution_count": 26,
   "id": "e19b3b21",
   "metadata": {
    "vscode": {
     "languageId": "markdown"
    }
   },
   "outputs": [
    {
     "name": "stdout",
     "output_type": "stream",
     "text": [
      "['apple', 'banana', 'cherry', 'banana']\n"
     ]
    }
   ],
   "source": [
    "print(fruits[:])       # ['apple', 'banana', 'cherry', 'date', 'elderberry', 'fig', 'grape']\n"
   ]
  },
  {
   "cell_type": "markdown",
   "id": "44c6ae35",
   "metadata": {},
   "source": [
    "### Slicing with steps"
   ]
  },
  {
   "cell_type": "code",
   "execution_count": 27,
   "id": "2dc5c812",
   "metadata": {
    "vscode": {
     "languageId": "markdown"
    }
   },
   "outputs": [
    {
     "name": "stdout",
     "output_type": "stream",
     "text": [
      "['apple', 'cherry']\n"
     ]
    }
   ],
   "source": [
    "print(fruits[::2])     # ['apple', 'cherry', 'elderberry', 'grape']\n"
   ]
  },
  {
   "cell_type": "code",
   "execution_count": 28,
   "id": "8433d04c",
   "metadata": {
    "vscode": {
     "languageId": "markdown"
    }
   },
   "outputs": [
    {
     "name": "stdout",
     "output_type": "stream",
     "text": [
      "['banana', 'banana']\n"
     ]
    }
   ],
   "source": [
    "print(fruits[1::2])    # ['banana', 'date', 'fig']\n"
   ]
  },
  {
   "cell_type": "code",
   "execution_count": 29,
   "id": "427f0d6b",
   "metadata": {
    "vscode": {
     "languageId": "markdown"
    }
   },
   "outputs": [
    {
     "name": "stdout",
     "output_type": "stream",
     "text": [
      "['banana', 'cherry', 'banana', 'apple']\n"
     ]
    }
   ],
   "source": [
    "print(fruits[::-1])    # ['grape', 'fig', 'elderberry', 'date', 'cherry', 'banana', 'apple']\n"
   ]
  },
  {
   "cell_type": "markdown",
   "id": "91e47fef",
   "metadata": {},
   "source": [
    "Updating slice of a list:"
   ]
  },
  {
   "cell_type": "code",
   "execution_count": 5,
   "id": "4988964f",
   "metadata": {
    "vscode": {
     "languageId": "markdown"
    }
   },
   "outputs": [],
   "source": [
    "a = [1, 2, 3, 4, 5]"
   ]
  },
  {
   "cell_type": "code",
   "execution_count": 6,
   "id": "47bee231",
   "metadata": {
    "vscode": {
     "languageId": "markdown"
    }
   },
   "outputs": [
    {
     "name": "stdout",
     "output_type": "stream",
     "text": [
      "[1, 20, 30, 40, 5]\n"
     ]
    }
   ],
   "source": [
    "a[1:4] = [20, 30, 40]\n",
    "print(a)  # Output: [1, 20, 30, 40, 5]"
   ]
  },
  {
   "cell_type": "code",
   "execution_count": 8,
   "id": "86149aa7",
   "metadata": {
    "vscode": {
     "languageId": "markdown"
    }
   },
   "outputs": [
    {
     "name": "stdout",
     "output_type": "stream",
     "text": [
      "[1, 3, 5]\n"
     ]
    }
   ],
   "source": [
    "a[1:4] = [3]\n",
    "print(a)"
   ]
  }
 ],
 "metadata": {
  "kernelspec": {
   "display_name": "Python 3",
   "language": "python",
   "name": "python3"
  },
  "language_info": {
   "codemirror_mode": {
    "name": "ipython",
    "version": 3
   },
   "file_extension": ".py",
   "mimetype": "text/x-python",
   "name": "python",
   "nbconvert_exporter": "python",
   "pygments_lexer": "ipython3",
   "version": "3.11.3"
  }
 },
 "nbformat": 4,
 "nbformat_minor": 5
}
